{
 "cells": [
  {
   "cell_type": "code",
   "execution_count": 1,
   "id": "7e48791a",
   "metadata": {},
   "outputs": [],
   "source": [
    "from llama_cpp import Llama\n",
    "MODEL_PATH = \"./models/llama-7b.ggmlv3.q4_K_M.bin\""
   ]
  },
  {
   "cell_type": "code",
   "execution_count": 2,
   "id": "42370f77",
   "metadata": {},
   "outputs": [
    {
     "name": "stderr",
     "output_type": "stream",
     "text": [
      "AVX = 1 | AVX2 = 1 | AVX512 = 0 | AVX512_VBMI = 0 | AVX512_VNNI = 0 | FMA = 1 | NEON = 0 | ARM_FMA = 0 | F16C = 1 | FP16_VA = 0 | WASM_SIMD = 0 | BLAS = 0 | SSE3 = 1 | VSX = 0 | \n"
     ]
    }
   ],
   "source": [
    "llm = Llama(model_path=MODEL_PATH)"
   ]
  },
  {
   "cell_type": "code",
   "execution_count": 3,
   "id": "32b6b35e",
   "metadata": {},
   "outputs": [
    {
     "name": "stdout",
     "output_type": "stream",
     "text": [
      "\n",
      "Christopher Nolan, who also directed Memento and Insomnia, is the director of The Dark Knight. He has done several great movies since this movie. It is hard to believe that someone so young can produce such a fantastic film. It has gotten great reviews all over the world and the Batman fans love it too.\n"
     ]
    }
   ],
   "source": [
    "response = llm(\"Who directed The Dark Knight?\")\n",
    "print(response['choices'][0]['text'])"
   ]
  },
  {
   "cell_type": "code",
   "execution_count": 4,
   "id": "ea37e738",
   "metadata": {},
   "outputs": [
    {
     "data": {
      "text/plain": [
       "{'id': 'cmpl-b46de0f8-44ac-4eef-9ed0-96b33dde5fcc',\n",
       " 'object': 'text_completion',\n",
       " 'created': 1689112012,\n",
       " 'model': './models/llama-7b.ggmlv3.q4_K_M.bin',\n",
       " 'choices': [{'text': '\\nChristopher Nolan, who also directed Memento and Insomnia, is the director of The Dark Knight. He has done several great movies since this movie. It is hard to believe that someone so young can produce such a fantastic film. It has gotten great reviews all over the world and the Batman fans love it too.',\n",
       "   'index': 0,\n",
       "   'logprobs': None,\n",
       "   'finish_reason': 'stop'}],\n",
       " 'usage': {'prompt_tokens': 7, 'completion_tokens': 71, 'total_tokens': 78}}"
      ]
     },
     "execution_count": 4,
     "metadata": {},
     "output_type": "execute_result"
    }
   ],
   "source": [
    "response"
   ]
  },
  {
   "cell_type": "code",
   "execution_count": 5,
   "id": "013d38a3",
   "metadata": {},
   "outputs": [],
   "source": [
    "from langchain import PromptTemplate\n",
    "template = \"Tell me a {adjective} joke about {content}.\""
   ]
  },
  {
   "cell_type": "code",
   "execution_count": 6,
   "id": "e6103481",
   "metadata": {},
   "outputs": [],
   "source": [
    "prompt = PromptTemplate.from_template(template)"
   ]
  },
  {
   "cell_type": "code",
   "execution_count": 7,
   "id": "a3b3756e",
   "metadata": {},
   "outputs": [
    {
     "data": {
      "text/plain": [
       "PromptTemplate(input_variables=['adjective', 'content'], output_parser=None, partial_variables={}, template='Tell me a {adjective} joke about {content}.', template_format='f-string', validate_template=True)"
      ]
     },
     "execution_count": 7,
     "metadata": {},
     "output_type": "execute_result"
    }
   ],
   "source": [
    "prompt"
   ]
  },
  {
   "cell_type": "code",
   "execution_count": 8,
   "id": "af83e204",
   "metadata": {},
   "outputs": [
    {
     "data": {
      "text/plain": [
       "['adjective', 'content']"
      ]
     },
     "execution_count": 8,
     "metadata": {},
     "output_type": "execute_result"
    }
   ],
   "source": [
    "prompt.input_variables"
   ]
  },
  {
   "cell_type": "code",
   "execution_count": 9,
   "id": "0c7fa415",
   "metadata": {},
   "outputs": [
    {
     "data": {
      "text/plain": [
       "'Tell me a {adjective} joke about {content}.'"
      ]
     },
     "execution_count": 9,
     "metadata": {},
     "output_type": "execute_result"
    }
   ],
   "source": [
    "prompt.template"
   ]
  },
  {
   "cell_type": "code",
   "execution_count": 10,
   "id": "112e22db",
   "metadata": {},
   "outputs": [
    {
     "data": {
      "text/plain": [
       "'Tell me a funny joke about dolls.'"
      ]
     },
     "execution_count": 10,
     "metadata": {},
     "output_type": "execute_result"
    }
   ],
   "source": [
    "formatted_prompt = prompt.format(adjective=\"funny\", content=\"dolls\")\n",
    "formatted_prompt"
   ]
  },
  {
   "cell_type": "code",
   "execution_count": 11,
   "id": "d721b33b",
   "metadata": {},
   "outputs": [
    {
     "name": "stderr",
     "output_type": "stream",
     "text": [
      "AVX = 1 | AVX2 = 1 | AVX512 = 0 | AVX512_VBMI = 0 | AVX512_VNNI = 0 | FMA = 1 | NEON = 0 | ARM_FMA = 0 | F16C = 1 | FP16_VA = 0 | WASM_SIMD = 0 | BLAS = 0 | SSE3 = 1 | VSX = 0 | \n"
     ]
    },
    {
     "data": {
      "text/plain": [
       "['movie_name']"
      ]
     },
     "execution_count": 11,
     "metadata": {},
     "output_type": "execute_result"
    }
   ],
   "source": [
    "from langchain.llms import LlamaCpp\n",
    "from langchain import PromptTemplate\n",
    "\n",
    "llm = LlamaCpp(model_path=MODEL_PATH)\n",
    "\n",
    "template = \"\"\"Q: Who directed {movie_name}?\n",
    "Answer:\n",
    "\"\"\"\n",
    "\n",
    "prompt = PromptTemplate.from_template(template)\n",
    "prompt.input_variables"
   ]
  },
  {
   "cell_type": "code",
   "execution_count": 12,
   "id": "feb21700",
   "metadata": {},
   "outputs": [
    {
     "name": "stdout",
     "output_type": "stream",
     "text": [
      "Q: Who directed {movie_name}?\n",
      "Answer:\n",
      "\n",
      "Q: Who directed Interstellar?\n",
      "Answer:\n",
      "\n"
     ]
    }
   ],
   "source": [
    "print(prompt.template)\n",
    "formatted_prompt = prompt.format(movie_name=\"Interstellar\")\n",
    "print(formatted_prompt)"
   ]
  },
  {
   "cell_type": "code",
   "execution_count": 13,
   "id": "a4354497",
   "metadata": {},
   "outputs": [
    {
     "data": {
      "text/plain": [
       "\"Director Christopher Nolan is widely considered one of the most influential directors working today. His films, including _Memento_ (2000), _Batman Begins_ (2005) and _Inception_ , have helped define modern cinema and he has a devoted following among film students and critics alike for his innovative style. The British director's 1998 debut feature, _Following_ , was made with an eye-catching budget of just $6000, but this was followed by blockbusters such as the _Batman_ series and _The Dark Knight Rises_. Nolan has been nominated for an Oscar seven times and won the award in 2011 for his _Inception_ script.\""
      ]
     },
     "execution_count": 13,
     "metadata": {},
     "output_type": "execute_result"
    }
   ],
   "source": [
    "llm(prompt=formatted_prompt, llm=llm, stop=[\"Q:\", \"\\n\"])"
   ]
  },
  {
   "cell_type": "code",
   "execution_count": 14,
   "id": "9bd34c9b",
   "metadata": {},
   "outputs": [
    {
     "name": "stderr",
     "output_type": "stream",
     "text": [
      "Llama.generate: prefix-match hit\n"
     ]
    },
    {
     "data": {
      "text/plain": [
       "'A) Shekhar Kapur\\nB) Ram Madhvani\\nC) Ram Gopal Varma\\nD) Anil Mehta\\nQ: What is the release date of Bajirao Mastani movie?\\nAnswer: 26th December\\nQ: Who directed Bajirao Mastani?\\nA) Shekhar Kapur\\nB) Ram Madhvani\\nC) Ram Gopal Varma\\nD) Anil Mehta'"
      ]
     },
     "execution_count": 14,
     "metadata": {},
     "output_type": "execute_result"
    }
   ],
   "source": [
    "from langchain.chains import LLMChain\n",
    "llm_chain = LLMChain(prompt=prompt, llm=llm)\n",
    "llm_chain.run(\"Neerja\")"
   ]
  },
  {
   "cell_type": "code",
   "execution_count": 15,
   "id": "093d2fba",
   "metadata": {},
   "outputs": [],
   "source": [
    "from langchain.document_loaders import TextLoader\n",
    "from langchain.text_splitter import CharacterTextSplitter"
   ]
  },
  {
   "cell_type": "code",
   "execution_count": 16,
   "id": "332d9794",
   "metadata": {},
   "outputs": [],
   "source": [
    "loader = TextLoader(\"./docs/sample_input.txt\")\n",
    "docs = loader.load()"
   ]
  },
  {
   "cell_type": "code",
   "execution_count": 17,
   "id": "20d0c521",
   "metadata": {},
   "outputs": [
    {
     "data": {
      "text/plain": [
       "[Document(page_content='Batman is a popular fictional superhero who first appeared in comic books published by DC Comics in 1939. Created by writer Bill Finger and artist Bob Kane, Batman is known for being a masked vigilante who fights crime in the fictional city of Gotham.\\n\\nThe character of Batman, also known as Bruce Wayne, witnessed the murder of his parents as a child, which fueled his desire to combat crime and seek justice. Wayne, a billionaire industrialist, uses his wealth and resources to create a secret identity as Batman. He relies on his intelligence, detective skills, martial arts training, and an array of gadgets and technology to fight against criminals and protect Gotham City.\\n\\nOne of Batman\\'s defining characteristics is his lack of superhuman powers. Instead, he relies on his physical prowess, tactical thinking, and gadgets like the Batarang, Batmobile, and Bat-Signal. Batman\\'s costume, designed to strike fear into criminals, includes a bat emblem on his chest, a cape, and a cowl with pointed ears.\\n\\nThroughout his comic book history, Batman has faced a wide range of adversaries, including iconic villains such as the Joker, Catwoman, Two-Face, Penguin, and Bane. He is also a founding member of the superhero team known as the Justice League, alongside other DC Comics characters like Superman and Wonder Woman.\\n\\nBatman\\'s popularity extends beyond comic books. The character has been featured in numerous adaptations, including movies, television series, video games, and animated shows. Some notable portrayals of Batman on the big screen include the Tim Burton-directed films of the 1980s and 1990s, Christopher Nolan\\'s \"The Dark Knight\" trilogy, and the DC Extended Universe films.\\n\\nBatman\\'s dark and brooding nature, complex psychology, and commitment to justice have made him one of the most beloved and enduring superheroes in popular culture. His enduring popularity has allowed him to become a symbol of determination, resourcefulness, and the triumph of justice over evil.', metadata={'source': './docs/sample_input.txt'})]"
      ]
     },
     "execution_count": 17,
     "metadata": {},
     "output_type": "execute_result"
    }
   ],
   "source": [
    "docs"
   ]
  },
  {
   "cell_type": "code",
   "execution_count": 18,
   "id": "db23a97e",
   "metadata": {},
   "outputs": [
    {
     "name": "stderr",
     "output_type": "stream",
     "text": [
      "Created a chunk of size 251, which is longer than the specified 10\n",
      "Created a chunk of size 425, which is longer than the specified 10\n",
      "Created a chunk of size 327, which is longer than the specified 10\n",
      "Created a chunk of size 313, which is longer than the specified 10\n",
      "Created a chunk of size 371, which is longer than the specified 10\n"
     ]
    },
    {
     "data": {
      "text/plain": [
       "[Document(page_content='Batman is a popular fictional superhero who first appeared in comic books published by DC Comics in 1939. Created by writer Bill Finger and artist Bob Kane, Batman is known for being a masked vigilante who fights crime in the fictional city of Gotham.', metadata={'source': './docs/sample_input.txt'}),\n",
       " Document(page_content='The character of Batman, also known as Bruce Wayne, witnessed the murder of his parents as a child, which fueled his desire to combat crime and seek justice. Wayne, a billionaire industrialist, uses his wealth and resources to create a secret identity as Batman. He relies on his intelligence, detective skills, martial arts training, and an array of gadgets and technology to fight against criminals and protect Gotham City.', metadata={'source': './docs/sample_input.txt'}),\n",
       " Document(page_content=\"One of Batman's defining characteristics is his lack of superhuman powers. Instead, he relies on his physical prowess, tactical thinking, and gadgets like the Batarang, Batmobile, and Bat-Signal. Batman's costume, designed to strike fear into criminals, includes a bat emblem on his chest, a cape, and a cowl with pointed ears.\", metadata={'source': './docs/sample_input.txt'}),\n",
       " Document(page_content='Throughout his comic book history, Batman has faced a wide range of adversaries, including iconic villains such as the Joker, Catwoman, Two-Face, Penguin, and Bane. He is also a founding member of the superhero team known as the Justice League, alongside other DC Comics characters like Superman and Wonder Woman.', metadata={'source': './docs/sample_input.txt'}),\n",
       " Document(page_content='Batman\\'s popularity extends beyond comic books. The character has been featured in numerous adaptations, including movies, television series, video games, and animated shows. Some notable portrayals of Batman on the big screen include the Tim Burton-directed films of the 1980s and 1990s, Christopher Nolan\\'s \"The Dark Knight\" trilogy, and the DC Extended Universe films.', metadata={'source': './docs/sample_input.txt'}),\n",
       " Document(page_content=\"Batman's dark and brooding nature, complex psychology, and commitment to justice have made him one of the most beloved and enduring superheroes in popular culture. His enduring popularity has allowed him to become a symbol of determination, resourcefulness, and the triumph of justice over evil.\", metadata={'source': './docs/sample_input.txt'})]"
      ]
     },
     "execution_count": 18,
     "metadata": {},
     "output_type": "execute_result"
    }
   ],
   "source": [
    "text_splitter = CharacterTextSplitter(chunk_size=10, chunk_overlap=0)\n",
    "texts = text_splitter.split_documents(docs)\n",
    "texts"
   ]
  },
  {
   "cell_type": "code",
   "execution_count": 19,
   "id": "c341603d",
   "metadata": {},
   "outputs": [
    {
     "data": {
      "text/plain": [
       "1"
      ]
     },
     "execution_count": 19,
     "metadata": {},
     "output_type": "execute_result"
    }
   ],
   "source": [
    "len(docs)"
   ]
  },
  {
   "cell_type": "code",
   "execution_count": 20,
   "id": "09ea7b57",
   "metadata": {},
   "outputs": [
    {
     "data": {
      "text/plain": [
       "6"
      ]
     },
     "execution_count": 20,
     "metadata": {},
     "output_type": "execute_result"
    }
   ],
   "source": [
    "len(texts)"
   ]
  },
  {
   "cell_type": "code",
   "execution_count": 21,
   "id": "c66cd84e",
   "metadata": {},
   "outputs": [
    {
     "name": "stdout",
     "output_type": "stream",
     "text": [
      "[Document(page_content='Batman is a popular fictional superhero who first appeared in comic books published by DC Comics in 1939. Created by writer Bill Finger and artist Bob Kane, Batman is known for being a masked vigilante who fights crime in the fictional city of Gotham.\\n\\nThe character of Batman, also known as Bruce Wayne, witnessed the murder of his parents as a child, which fueled his desire to combat crime and seek justice. Wayne, a billionaire industrialist, uses his wealth and resources to create a secret identity as Batman. He relies on his intelligence, detective skills, martial arts training, and an array of gadgets and technology to fight against criminals and protect Gotham City.\\n\\nOne of Batman\\'s defining characteristics is his lack of superhuman powers. Instead, he relies on his physical prowess, tactical thinking, and gadgets like the Batarang, Batmobile, and Bat-Signal. Batman\\'s costume, designed to strike fear into criminals, includes a bat emblem on his chest, a cape, and a cowl with pointed ears.\\n\\nThroughout his comic book history, Batman has faced a wide range of adversaries, including iconic villains such as the Joker, Catwoman, Two-Face, Penguin, and Bane. He is also a founding member of the superhero team known as the Justice League, alongside other DC Comics characters like Superman and Wonder Woman.\\n\\nBatman\\'s popularity extends beyond comic books. The character has been featured in numerous adaptations, including movies, television series, video games, and animated shows. Some notable portrayals of Batman on the big screen include the Tim Burton-directed films of the 1980s and 1990s, Christopher Nolan\\'s \"The Dark Knight\" trilogy, and the DC Extended Universe films.\\n\\nBatman\\'s dark and brooding nature, complex psychology, and commitment to justice have made him one of the most beloved and enduring superheroes in popular culture. His enduring popularity has allowed him to become a symbol of determination, resourcefulness, and the triumph of justice over evil.', metadata={'source': './docs/sample_input.txt'})]\n"
     ]
    }
   ],
   "source": [
    "print(docs)"
   ]
  },
  {
   "cell_type": "code",
   "execution_count": 22,
   "id": "2363d904",
   "metadata": {},
   "outputs": [
    {
     "name": "stdout",
     "output_type": "stream",
     "text": [
      "page_content='Batman is a popular fictional superhero who first appeared in comic books published by DC Comics in 1939. Created by writer Bill Finger and artist Bob Kane, Batman is known for being a masked vigilante who fights crime in the fictional city of Gotham.' metadata={'source': './docs/sample_input.txt'}\n"
     ]
    }
   ],
   "source": [
    "print(texts[0])"
   ]
  },
  {
   "cell_type": "code",
   "execution_count": 23,
   "id": "cb8e6713",
   "metadata": {},
   "outputs": [
    {
     "name": "stderr",
     "output_type": "stream",
     "text": [
      "AVX = 1 | AVX2 = 1 | AVX512 = 0 | AVX512_VBMI = 0 | AVX512_VNNI = 0 | FMA = 1 | NEON = 0 | ARM_FMA = 0 | F16C = 1 | FP16_VA = 0 | WASM_SIMD = 0 | BLAS = 0 | SSE3 = 1 | VSX = 0 | \n"
     ]
    },
    {
     "data": {
      "text/plain": [
       "Document(page_content='Batman is a popular fictional superhero who first appeared in comic books published by DC Comics in 1939. Created by writer Bill Finger and artist Bob Kane, Batman is known for being a masked vigilante who fights crime in the fictional city of Gotham.', metadata={'source': './docs/sample_input.txt'})"
      ]
     },
     "execution_count": 23,
     "metadata": {},
     "output_type": "execute_result"
    }
   ],
   "source": [
    "from langchain.embeddings import LlamaCppEmbeddings\n",
    "embeddings = LlamaCppEmbeddings(model_path=MODEL_PATH)\n",
    "_texts = []\n",
    "for i in range(len(texts)):\n",
    "    _texts.append(texts[i].page_content)\n",
    "texts[0]"
   ]
  },
  {
   "cell_type": "code",
   "execution_count": 24,
   "id": "0f5528e9",
   "metadata": {},
   "outputs": [
    {
     "data": {
      "text/plain": [
       "(6, 4096)"
      ]
     },
     "execution_count": 24,
     "metadata": {},
     "output_type": "execute_result"
    }
   ],
   "source": [
    "embedded_texts = embeddings.embed_documents(_texts)\n",
    "len(embedded_texts), len(embedded_texts[0])"
   ]
  },
  {
   "cell_type": "code",
   "execution_count": 25,
   "id": "79ffde3c",
   "metadata": {},
   "outputs": [
    {
     "data": {
      "text/plain": [
       "[2.635892152786255,\n",
       " -0.2077806144952774,\n",
       " 0.5032820105552673,\n",
       " -4.212489128112793]"
      ]
     },
     "execution_count": 25,
     "metadata": {},
     "output_type": "execute_result"
    }
   ],
   "source": [
    "embedded_texts[0][:4]"
   ]
  },
  {
   "cell_type": "code",
   "execution_count": 26,
   "id": "892a6132",
   "metadata": {},
   "outputs": [
    {
     "data": {
      "text/plain": [
       "4096"
      ]
     },
     "execution_count": 26,
     "metadata": {},
     "output_type": "execute_result"
    }
   ],
   "source": [
    "query = \"Which city does Batman fight crimes in?\"\n",
    "embedded_query = embeddings.embed_query(query)\n",
    "len(embedded_query)"
   ]
  },
  {
   "cell_type": "code",
   "execution_count": 27,
   "id": "9f50579c",
   "metadata": {},
   "outputs": [
    {
     "data": {
      "text/plain": [
       "[1.2414132356643677,\n",
       " -0.09864351153373718,\n",
       " 0.010696738958358765,\n",
       " -4.159499645233154]"
      ]
     },
     "execution_count": 27,
     "metadata": {},
     "output_type": "execute_result"
    }
   ],
   "source": [
    "embedded_query[:4]"
   ]
  },
  {
   "cell_type": "code",
   "execution_count": 28,
   "id": "697eb68f",
   "metadata": {},
   "outputs": [],
   "source": [
    "from langchain.vectorstores import Chroma"
   ]
  },
  {
   "cell_type": "code",
   "execution_count": 29,
   "id": "27582a81",
   "metadata": {},
   "outputs": [],
   "source": [
    "db = Chroma.from_documents(texts, embeddings)"
   ]
  },
  {
   "cell_type": "code",
   "execution_count": 30,
   "id": "dbb58c0b",
   "metadata": {},
   "outputs": [
    {
     "data": {
      "text/plain": [
       "[Document(page_content='The character of Batman, also known as Bruce Wayne, witnessed the murder of his parents as a child, which fueled his desire to combat crime and seek justice. Wayne, a billionaire industrialist, uses his wealth and resources to create a secret identity as Batman. He relies on his intelligence, detective skills, martial arts training, and an array of gadgets and technology to fight against criminals and protect Gotham City.', metadata={'source': './docs/sample_input.txt'})]"
      ]
     },
     "execution_count": 30,
     "metadata": {},
     "output_type": "execute_result"
    }
   ],
   "source": [
    "query = \"Which city does Batman fight crimes in?\"\n",
    "docs = db.similarity_search(query, k=1)\n",
    "docs"
   ]
  },
  {
   "cell_type": "code",
   "execution_count": 31,
   "id": "1f71529d",
   "metadata": {},
   "outputs": [
    {
     "data": {
      "text/plain": [
       "[Document(page_content='The character of Batman, also known as Bruce Wayne, witnessed the murder of his parents as a child, which fueled his desire to combat crime and seek justice. Wayne, a billionaire industrialist, uses his wealth and resources to create a secret identity as Batman. He relies on his intelligence, detective skills, martial arts training, and an array of gadgets and technology to fight against criminals and protect Gotham City.', metadata={'source': './docs/sample_input.txt'})]"
      ]
     },
     "execution_count": 31,
     "metadata": {},
     "output_type": "execute_result"
    }
   ],
   "source": [
    "query_vector = embeddings.embed_query(query)\n",
    "docs = db.similarity_search_by_vector(query_vector, k=1)\n",
    "docs"
   ]
  },
  {
   "cell_type": "code",
   "execution_count": 32,
   "id": "7de96f11",
   "metadata": {},
   "outputs": [],
   "source": [
    "from langchain.chains import LLMChain\n",
    "from langchain.prompts import PromptTemplate\n",
    "\n",
    "template = \"\"\"Use only the following information to answer the question at the end briefly. \n",
    "If you don't know the answer, just say that you don't know, don't try to make up an answer.\n",
    "Information: {context}\n",
    "Question: {question}\n",
    "Answer:\"\"\""
   ]
  },
  {
   "cell_type": "code",
   "execution_count": 33,
   "id": "180f3fb7",
   "metadata": {},
   "outputs": [
    {
     "data": {
      "text/plain": [
       "['context', 'question']"
      ]
     },
     "execution_count": 33,
     "metadata": {},
     "output_type": "execute_result"
    }
   ],
   "source": [
    "prompt = PromptTemplate.from_template(template)\n",
    "prompt.input_variables"
   ]
  },
  {
   "cell_type": "code",
   "execution_count": 34,
   "id": "078c94f1",
   "metadata": {},
   "outputs": [
    {
     "name": "stdout",
     "output_type": "stream",
     "text": [
      "The character of Batman, also known as Bruce Wayne, witnessed the murder of his parents as a child, which fueled his desire to combat crime and seek justice. Wayne, a billionaire industrialist, uses his wealth and resources to create a secret identity as Batman. He relies on his intelligence, detective skills, martial arts training, and an array of gadgets and technology to fight against criminals and protect Gotham City.\n"
     ]
    }
   ],
   "source": [
    "query = \"Which city does Batman fight crimes in?\"\n",
    "similar_doc = db.similarity_search(query, k=1)\n",
    "context = similar_doc[0].page_content\n",
    "print(context)"
   ]
  },
  {
   "cell_type": "code",
   "execution_count": 35,
   "id": "3fc57089",
   "metadata": {},
   "outputs": [
    {
     "name": "stderr",
     "output_type": "stream",
     "text": [
      "Llama.generate: prefix-match hit\n"
     ]
    },
    {
     "name": "stdout",
     "output_type": "stream",
     "text": [
      " He fights in Gotham City.\n",
      "You can also use our website to answer this question and many others like it at http://www.yourdictionary.com/questions.html\n"
     ]
    }
   ],
   "source": [
    "query_llm = LLMChain(llm=llm, prompt=prompt)\n",
    "response = query_llm.run({\"context\": context, \"question\": query})\n",
    "print(response)"
   ]
  },
  {
   "cell_type": "code",
   "execution_count": 36,
   "id": "cbe4d51f",
   "metadata": {},
   "outputs": [
    {
     "data": {
      "text/plain": [
       "[Document(page_content='The character of Batman, also known as Bruce Wayne, witnessed the murder of his parents as a child, which fueled his desire to combat crime and seek justice. Wayne, a billionaire industrialist, uses his wealth and resources to create a secret identity as Batman. He relies on his intelligence, detective skills, martial arts training, and an array of gadgets and technology to fight against criminals and protect Gotham City.', metadata={'source': './docs/sample_input.txt'})]"
      ]
     },
     "execution_count": 36,
     "metadata": {},
     "output_type": "execute_result"
    }
   ],
   "source": [
    "similar_doc"
   ]
  },
  {
   "cell_type": "code",
   "execution_count": null,
   "id": "7f0fd6b1",
   "metadata": {},
   "outputs": [],
   "source": []
  }
 ],
 "metadata": {
  "kernelspec": {
   "display_name": "Python 3 (ipykernel)",
   "language": "python",
   "name": "python3"
  },
  "language_info": {
   "codemirror_mode": {
    "name": "ipython",
    "version": 3
   },
   "file_extension": ".py",
   "mimetype": "text/x-python",
   "name": "python",
   "nbconvert_exporter": "python",
   "pygments_lexer": "ipython3",
   "version": "3.9.17"
  }
 },
 "nbformat": 4,
 "nbformat_minor": 5
}
